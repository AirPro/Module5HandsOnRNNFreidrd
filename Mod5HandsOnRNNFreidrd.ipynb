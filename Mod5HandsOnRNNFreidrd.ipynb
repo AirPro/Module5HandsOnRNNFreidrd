{
  "nbformat": 4,
  "nbformat_minor": 0,
  "metadata": {
    "colab": {
      "provenance": [],
      "mount_file_id": "1qLPctYMH3J7dIugcucNyDp5OoBjwiplo",
      "authorship_tag": "ABX9TyODag9vCUZ0J87SazOW7Fza",
      "include_colab_link": true
    },
    "kernelspec": {
      "name": "python3",
      "display_name": "Python 3"
    },
    "language_info": {
      "name": "python"
    }
  },
  "cells": [
    {
      "cell_type": "markdown",
      "metadata": {
        "id": "view-in-github",
        "colab_type": "text"
      },
      "source": [
        "<a href=\"https://colab.research.google.com/github/AirPro/Module5HandsOnRNNFreidrd/blob/main/Mod5HandsOnRNNFreidrd.ipynb\" target=\"_parent\"><img src=\"https://colab.research.google.com/assets/colab-badge.svg\" alt=\"Open In Colab\"/></a>"
      ]
    },
    {
      "cell_type": "markdown",
      "source": [
        "# Deep Learning Class Module 5 Hands On Assignment Recurrent Neural Netowrks\n",
        "By: Robert Freid <br>\n",
        "This exercise demonstrates the use of a Recurrent Neural Network Notebook for the demonstration of the priciples taught in our Deep Learning class."
      ],
      "metadata": {
        "id": "2XDpWW-AytDx"
      }
    },
    {
      "cell_type": "code",
      "execution_count": 1,
      "metadata": {
        "id": "TO8zt4JBycnv"
      },
      "outputs": [],
      "source": [
        "# Mount Google Drive \n",
        "# Uncomment to activate\n",
        "# from google.colab import drive\n",
        "# drive.mount('/content/drive')"
      ]
    },
    {
      "cell_type": "markdown",
      "source": [
        "## Import Requried Libraries"
      ],
      "metadata": {
        "id": "OCJRNklJ0y9X"
      }
    },
    {
      "cell_type": "code",
      "source": [
        "import numpy as np\n",
        "import pandas as pd\n",
        "import matplotlib.pyplot as plt#to plot accuracy\n",
        "import cv2\n",
        "import tensorflow as tf\n",
        "from PIL import Image #to read image data\n",
        "import os\n",
        "# to split training and testing data\n",
        "from sklearn.model_selection import train_test_split \n",
        "from keras.models import Sequential, load_model\n",
        "from keras.layers import Conv1D, MaxPool1D, Dense, Flatten, Dropout"
      ],
      "metadata": {
        "id": "mfMNb9uZ03IM"
      },
      "execution_count": 2,
      "outputs": []
    },
    {
      "cell_type": "markdown",
      "source": [
        "## Load the Dataset Files into a pandas Data Frame\n",
        "Path to .scv file: <br>\n",
        "/content/drive/MyDrive/DepressionData/SaYoPillow.csv"
      ],
      "metadata": {
        "id": "Hr5m8K8l1kl6"
      }
    },
    {
      "cell_type": "code",
      "source": [
        "df = pd.read_csv('/content/drive/MyDrive/DepressionData/SaYoPillow.csv')"
      ],
      "metadata": {
        "id": "S0pqtGaK1sLf"
      },
      "execution_count": 3,
      "outputs": []
    },
    {
      "cell_type": "markdown",
      "source": [
        "## Print the Data Shape"
      ],
      "metadata": {
        "id": "8B9E-U6I2Y_Z"
      }
    },
    {
      "cell_type": "code",
      "source": [
        "print('Train data size =  ', df.shape )\n",
        "\n",
        "train_rows, columns = df.shape "
      ],
      "metadata": {
        "colab": {
          "base_uri": "https://localhost:8080/"
        },
        "id": "BDmxBe482b95",
        "outputId": "2185c88c-8ac0-463a-d4b9-16cd3ed027df"
      },
      "execution_count": 4,
      "outputs": [
        {
          "output_type": "stream",
          "name": "stdout",
          "text": [
            "Train data size =   (630, 9)\n"
          ]
        }
      ]
    },
    {
      "cell_type": "markdown",
      "source": [
        "## Count and Extract the labels column of the data."
      ],
      "metadata": {
        "id": "CRGkwO_224y6"
      }
    },
    {
      "cell_type": "code",
      "source": [
        "labels_count = df['sl'].value_counts()\n",
        "print(labels_count) "
      ],
      "metadata": {
        "colab": {
          "base_uri": "https://localhost:8080/"
        },
        "id": "BI9aRABT2-fR",
        "outputId": "e918c16a-4686-4df5-e063-1f249120b5ea"
      },
      "execution_count": 5,
      "outputs": [
        {
          "output_type": "stream",
          "name": "stdout",
          "text": [
            "3    126\n",
            "1    126\n",
            "0    126\n",
            "2    126\n",
            "4    126\n",
            "Name: sl, dtype: int64\n"
          ]
        }
      ]
    },
    {
      "cell_type": "markdown",
      "source": [
        "## Display labels_count Values in a Bar Plot"
      ],
      "metadata": {
        "id": "6aSLQ4Gr3Um4"
      }
    },
    {
      "cell_type": "code",
      "source": [
        "import seaborn as sn\n",
        "plt.bar(labels_count.index, labels_count.values, color = sn.color_palette()[1]) "
      ],
      "metadata": {
        "colab": {
          "base_uri": "https://localhost:8080/",
          "height": 283
        },
        "id": "AWUoKyVf3aCC",
        "outputId": "746d244d-c782-4896-a4ec-f42a699c8ead"
      },
      "execution_count": 6,
      "outputs": [
        {
          "output_type": "execute_result",
          "data": {
            "text/plain": [
              "<BarContainer object of 5 artists>"
            ]
          },
          "metadata": {},
          "execution_count": 6
        },
        {
          "output_type": "display_data",
          "data": {
            "text/plain": [
              "<Figure size 432x288 with 1 Axes>"
            ],
            "image/png": "[encoded data removed]"
          },
          "metadata": {
            "needs_background": "light"
          }
        }
      ]
    },
    {
      "cell_type": "markdown",
      "source": [
        "## Print Head, Seperate Dataset, Set Up Train Test Split"
      ],
      "metadata": {
        "id": "XWRS-vuW3-wr"
      }
    },
    {
      "cell_type": "code",
      "source": [
        "print('Display the first 5 rows.')\n",
        "print(df.head())\n",
        "print('Convert Column Values to List')\n",
        "x = list(df.columns.values.tolist())\n",
        "print('Differentiate Features from Target Labels - Classes')\n",
        "y = x[columns - 1]\n",
        "X = df[x[0:columns - 1]]\n",
        "y = df[y]\n",
        "print('Train Test Split')\n",
        "X_train, X_test, y_train, y_test = train_test_split(X, y, test_size= 0.20, random_state= 4)"
      ],
      "metadata": {
        "colab": {
          "base_uri": "https://localhost:8080/"
        },
        "id": "l1hfOsYX4Jk_",
        "outputId": "ee88a995-b18a-40de-a32c-d3939b98e0e6"
      },
      "execution_count": 7,
      "outputs": [
        {
          "output_type": "stream",
          "name": "stdout",
          "text": [
            "Display the first 5 rows.\n",
            "      sr      rr       t      lm      bo    rem   sr.1     hr  sl\n",
            "0  93.80  25.680  91.840  16.600  89.840  99.60  1.840  74.20   3\n",
            "1  91.64  25.104  91.552  15.880  89.552  98.88  1.552  72.76   3\n",
            "2  60.00  20.000  96.000  10.000  95.000  85.00  7.000  60.00   1\n",
            "3  85.76  23.536  90.768  13.920  88.768  96.92  0.768  68.84   3\n",
            "4  48.12  17.248  97.872   6.496  96.248  72.48  8.248  53.12   0\n",
            "Convert Column Values to List\n",
            "Differentiate Features from Target Labels - Classes\n",
            "Train Test Split\n"
          ]
        }
      ]
    },
    {
      "cell_type": "markdown",
      "source": [
        "## Convert Data Into Float as Numpy Array"
      ],
      "metadata": {
        "id": "JABRzh7wBGDB"
      }
    },
    {
      "cell_type": "code",
      "source": [
        "from keras.utils import to_categorical\n",
        "from keras import metrics\n",
        "\n",
        "X_train = np.array(X_train)\n",
        "X_train = X_train.astype(np.float64)\n",
        "\n",
        "X_test = np.array(X_test)\n",
        "X_test = X_test.astype(np.float64)\n",
        "\n",
        "print('Verify convert Data')\n",
        "print(X_train.shape)\n",
        "print(X_test.shape)"
      ],
      "metadata": {
        "colab": {
          "base_uri": "https://localhost:8080/"
        },
        "id": "xz7AZR79BNrp",
        "outputId": "2e651c88-c4d4-48f9-ce70-647410ddca34"
      },
      "execution_count": 8,
      "outputs": [
        {
          "output_type": "stream",
          "name": "stdout",
          "text": [
            "Verify convert Data\n",
            "(504, 8)\n",
            "(126, 8)\n"
          ]
        }
      ]
    },
    {
      "cell_type": "markdown",
      "source": [
        "## Normalize the Data"
      ],
      "metadata": {
        "id": "vWhZTetQCpTB"
      }
    },
    {
      "cell_type": "code",
      "source": [
        "import tensorflow as tf\n",
        "\n",
        "for i in range(0,8):\n",
        "  X_train[:,i]=tf.keras.utils.normalize(X_train[:,i], axis=-1, order=2)\n",
        "  X_test[:,i]=tf.keras.utils.normalize(X_test[:,i], axis=-1, order=2)"
      ],
      "metadata": {
        "id": "D_EznSm2Cr2O"
      },
      "execution_count": 9,
      "outputs": []
    },
    {
      "cell_type": "markdown",
      "source": [
        "## Prepare the Labels to One Hot Encoder and the Entire Data Set to Numpy Array"
      ],
      "metadata": {
        "id": "yPhXXqabD3pc"
      }
    },
    {
      "cell_type": "code",
      "source": [
        "from keras import metrics\n",
        "# Convert data into float as numpy array\n",
        "import tensorflow as tf\n",
        "\n",
        "X_train = np.array(X_train)\n",
        "X_train= X_train.astype(np.float64)\n",
        "\n",
        "X_test = np.array(X_test)\n",
        "X_test= X_test.astype(np.float64)\n",
        "\n",
        "X_train = np.expand_dims(X_train, axis=2)\n",
        "X_test = np.expand_dims(X_test, axis=2)"
      ],
      "metadata": {
        "id": "Bpr5QrlhD-t-"
      },
      "execution_count": 10,
      "outputs": []
    },
    {
      "cell_type": "code",
      "source": [
        "y_train = to_categorical(y_train)\n",
        "y_test = to_categorical(y_test)"
      ],
      "metadata": {
        "id": "OtsMuY-lEbO3"
      },
      "execution_count": 11,
      "outputs": []
    },
    {
      "cell_type": "markdown",
      "source": [
        "## Implement the Model"
      ],
      "metadata": {
        "id": "JyvaZlKUElrW"
      }
    },
    {
      "cell_type": "code",
      "source": [
        "from keras.utils.vis_utils import plot_model\n",
        "from keras.layers import Input\n",
        "\n",
        "from keras.models import Model, Sequential\n",
        "\n",
        "from keras.layers import SimpleRNN,BatchNormalization, MaxPooling1D\n",
        "\n",
        "\n",
        "model = Sequential()\n",
        "\n",
        "\n",
        "model.add(Conv1D(16, 3, padding='same', kernel_initializer='he_uniform',input_shape = (X_train.shape[1],1)))\n",
        "model.add(MaxPooling1D(pool_size=2))\n",
        "\n",
        "\n",
        "\n",
        "model.add(Flatten())\n",
        "\n",
        "model.add(Dense(32, activation='relu'))\n",
        "model.add(Dense(5, activation='softmax'))"
      ],
      "metadata": {
        "id": "fy_TbtCHEo9Z"
      },
      "execution_count": 12,
      "outputs": []
    },
    {
      "cell_type": "markdown",
      "source": [
        "## Model Summary"
      ],
      "metadata": {
        "id": "YEPuKH13E2jY"
      }
    },
    {
      "cell_type": "code",
      "source": [
        "model.summary()"
      ],
      "metadata": {
        "colab": {
          "base_uri": "https://localhost:8080/"
        },
        "id": "dynqehrcE4I-",
        "outputId": "8442d2b1-1244-47c0-88ee-e3cf269ca03d"
      },
      "execution_count": 13,
      "outputs": [
        {
          "output_type": "stream",
          "name": "stdout",
          "text": [
            "Model: \"sequential\"\n",
            "_________________________________________________________________\n",
            " Layer (type)                Output Shape              Param #   \n",
            "=================================================================\n",
            " conv1d (Conv1D)             (None, 8, 16)             64        \n",
            "                                                                 \n",
            " max_pooling1d (MaxPooling1D  (None, 4, 16)            0         \n",
            " )                                                               \n",
            "                                                                 \n",
            " flatten (Flatten)           (None, 64)                0         \n",
            "                                                                 \n",
            " dense (Dense)               (None, 32)                2080      \n",
            "                                                                 \n",
            " dense_1 (Dense)             (None, 5)                 165       \n",
            "                                                                 \n",
            "=================================================================\n",
            "Total params: 2,309\n",
            "Trainable params: 2,309\n",
            "Non-trainable params: 0\n",
            "_________________________________________________________________\n"
          ]
        }
      ]
    },
    {
      "cell_type": "markdown",
      "source": [
        "## Display and Plot the Model"
      ],
      "metadata": {
        "id": "Ej0cs06WFHdl"
      }
    },
    {
      "cell_type": "code",
      "source": [
        "from keras.utils.vis_utils import plot_model\n",
        "plot_model(model, to_file='basic_model_plot.png', dpi=50,show_shapes=True, show_layer_names=True)"
      ],
      "metadata": {
        "colab": {
          "base_uri": "https://localhost:8080/",
          "height": 343
        },
        "id": "kUVHNanPFJep",
        "outputId": "2d463ba2-9c01-4bed-f368-a9c7035bc820"
      },
      "execution_count": 14,
      "outputs": [
        {
          "output_type": "execute_result",
          "data": {
            "image/png": "[encoded data removed]",
            "text/plain": [
              "<IPython.core.display.Image object>"
            ]
          },
          "metadata": {},
          "execution_count": 14
        }
      ]
    },
    {
      "cell_type": "markdown",
      "source": [
        "## Compile the Model"
      ],
      "metadata": {
        "id": "zktOoM5VFWM4"
      }
    },
    {
      "cell_type": "code",
      "source": [
        "model.compile(optimizer='adam', \n",
        "              loss='categorical_crossentropy', \n",
        "              metrics=['accuracy'])"
      ],
      "metadata": {
        "id": "-uZ97NodFX-T"
      },
      "execution_count": 15,
      "outputs": []
    },
    {
      "cell_type": "markdown",
      "source": [
        "## Set Batch Size and Epoch Number"
      ],
      "metadata": {
        "id": "q1126GCuFlEi"
      }
    },
    {
      "cell_type": "code",
      "source": [
        "batchSize = 32 # Original Value: 32\n",
        "epochs_num = 20 # Original Value: 20"
      ],
      "metadata": {
        "id": "ZmOql0VVFoBh"
      },
      "execution_count": 16,
      "outputs": []
    },
    {
      "cell_type": "markdown",
      "source": [
        "## Train the Model"
      ],
      "metadata": {
        "id": "JlABwNsKF1iN"
      }
    },
    {
      "cell_type": "code",
      "source": [
        "history= model.fit(X_train, y_train, epochs=epochs_num, batch_size=batchSize, validation_split=0.2, shuffle= True)"
      ],
      "metadata": {
        "colab": {
          "base_uri": "https://localhost:8080/"
        },
        "id": "1HU_JE3wF3U9",
        "outputId": "a06befde-b34f-4c74-d8f3-79c9387e515f"
      },
      "execution_count": 17,
      "outputs": [
        {
          "output_type": "stream",
          "name": "stdout",
          "text": [
            "Epoch 1/20\n",
            "13/13 [==============================] - 4s 92ms/step - loss: 1.6048 - accuracy: 0.2109 - val_loss: 1.6074 - val_accuracy: 0.5347\n",
            "Epoch 2/20\n",
            "13/13 [==============================] - 0s 14ms/step - loss: 1.5910 - accuracy: 0.5012 - val_loss: 1.6007 - val_accuracy: 0.4950\n",
            "Epoch 3/20\n",
            "13/13 [==============================] - 0s 21ms/step - loss: 1.5797 - accuracy: 0.4715 - val_loss: 1.5945 - val_accuracy: 0.5545\n",
            "Epoch 4/20\n",
            "13/13 [==============================] - 0s 18ms/step - loss: 1.5665 - accuracy: 0.6352 - val_loss: 1.5832 - val_accuracy: 0.5545\n",
            "Epoch 5/20\n",
            "13/13 [==============================] - 0s 25ms/step - loss: 1.5525 - accuracy: 0.6352 - val_loss: 1.5704 - val_accuracy: 0.5545\n",
            "Epoch 6/20\n",
            "13/13 [==============================] - 0s 19ms/step - loss: 1.5357 - accuracy: 0.6352 - val_loss: 1.5535 - val_accuracy: 0.5545\n",
            "Epoch 7/20\n",
            "13/13 [==============================] - 0s 11ms/step - loss: 1.5171 - accuracy: 0.6352 - val_loss: 1.5346 - val_accuracy: 0.5545\n",
            "Epoch 8/20\n",
            "13/13 [==============================] - 0s 8ms/step - loss: 1.4949 - accuracy: 0.6352 - val_loss: 1.5155 - val_accuracy: 0.5545\n",
            "Epoch 9/20\n",
            "13/13 [==============================] - 0s 9ms/step - loss: 1.4711 - accuracy: 0.6352 - val_loss: 1.4901 - val_accuracy: 0.5545\n",
            "Epoch 10/20\n",
            "13/13 [==============================] - 0s 13ms/step - loss: 1.4428 - accuracy: 0.6352 - val_loss: 1.4602 - val_accuracy: 0.5545\n",
            "Epoch 11/20\n",
            "13/13 [==============================] - 0s 18ms/step - loss: 1.4121 - accuracy: 0.6352 - val_loss: 1.4298 - val_accuracy: 0.5545\n",
            "Epoch 12/20\n",
            "13/13 [==============================] - 0s 15ms/step - loss: 1.3799 - accuracy: 0.6352 - val_loss: 1.3986 - val_accuracy: 0.5545\n",
            "Epoch 13/20\n",
            "13/13 [==============================] - 0s 10ms/step - loss: 1.3442 - accuracy: 0.6352 - val_loss: 1.3615 - val_accuracy: 0.5545\n",
            "Epoch 14/20\n",
            "13/13 [==============================] - 0s 8ms/step - loss: 1.3071 - accuracy: 0.6352 - val_loss: 1.3250 - val_accuracy: 0.5545\n",
            "Epoch 15/20\n",
            "13/13 [==============================] - 0s 8ms/step - loss: 1.2701 - accuracy: 0.6352 - val_loss: 1.2880 - val_accuracy: 0.5545\n",
            "Epoch 16/20\n",
            "13/13 [==============================] - 0s 12ms/step - loss: 1.2302 - accuracy: 0.6352 - val_loss: 1.2556 - val_accuracy: 0.5545\n",
            "Epoch 17/20\n",
            "13/13 [==============================] - 0s 12ms/step - loss: 1.1909 - accuracy: 0.6352 - val_loss: 1.2157 - val_accuracy: 0.5545\n",
            "Epoch 18/20\n",
            "13/13 [==============================] - 0s 22ms/step - loss: 1.1506 - accuracy: 0.6600 - val_loss: 1.1755 - val_accuracy: 0.5545\n",
            "Epoch 19/20\n",
            "13/13 [==============================] - 0s 11ms/step - loss: 1.1110 - accuracy: 0.6352 - val_loss: 1.1373 - val_accuracy: 0.5545\n",
            "Epoch 20/20\n",
            "13/13 [==============================] - 0s 8ms/step - loss: 1.0730 - accuracy: 0.6873 - val_loss: 1.1022 - val_accuracy: 0.6931\n"
          ]
        }
      ]
    },
    {
      "cell_type": "markdown",
      "source": [
        "## Train versus Validation Loss"
      ],
      "metadata": {
        "id": "yu1qmz_iGOkd"
      }
    },
    {
      "cell_type": "code",
      "source": [
        "plt.plot(history.history['loss'])\n",
        "plt.plot(history.history['val_loss'])\n",
        "plt.legend(['train', 'validation'], loc='upper right', fontsize ='large')\n",
        "plt.ylabel('loss',fontsize=16)\n",
        "plt.xlabel('epoch',fontsize=16)\n",
        "plt.yticks()\n",
        "plt.xticks(np.arange(0, epochs_num))\n",
        "plt.show()"
      ],
      "metadata": {
        "colab": {
          "base_uri": "https://localhost:8080/",
          "height": 284
        },
        "id": "3A5Oc8s2GS0t",
        "outputId": "9a09e329-fca7-48db-a034-b54828e04f67"
      },
      "execution_count": 18,
      "outputs": [
        {
          "output_type": "display_data",
          "data": {
            "text/plain": [
              "<Figure size 432x288 with 1 Axes>"
            ],
            "image/png": "[encoded data removed]"
          },
          "metadata": {
            "needs_background": "light"
          }
        }
      ]
    },
    {
      "cell_type": "markdown",
      "source": [
        "## Train versus Validation Accuracy"
      ],
      "metadata": {
        "id": "6cJU-cdmGbUL"
      }
    },
    {
      "cell_type": "code",
      "source": [
        "plt.plot(history.history['accuracy'])\n",
        "plt.plot(history.history['val_accuracy'])\n",
        "plt.xlabel('epoch',fontsize=16)\n",
        "plt.ylabel('accuracy',fontsize=16)\n",
        "plt.yticks(np.arange(0.0, 1.05,0.1))#, step=0.5))\n",
        "plt.xticks(np.arange(0, epochs_num))# +1 ))#+10, step=10))\n",
        "plt.legend(['train', 'validation'], loc='lower right', fontsize ='large')\n",
        "plt.show()"
      ],
      "metadata": {
        "colab": {
          "base_uri": "https://localhost:8080/",
          "height": 288
        },
        "id": "7Y3F0MvmGeIU",
        "outputId": "574130db-6f38-47f4-acf6-7845b95f9203"
      },
      "execution_count": 19,
      "outputs": [
        {
          "output_type": "display_data",
          "data": {
            "text/plain": [
              "<Figure size 432x288 with 1 Axes>"
            ],
            "image/png": "[encoded data removed]"
          },
          "metadata": {
            "needs_background": "light"
          }
        }
      ]
    },
    {
      "cell_type": "markdown",
      "source": [
        "## Test the Model"
      ],
      "metadata": {
        "id": "yPgY9AIVGmS3"
      }
    },
    {
      "cell_type": "code",
      "source": [
        "pred_test= model.predict(X_test)\n",
        "y_pred = pred_test.round()\n",
        "scores2 = model.evaluate(X_test, y_test, verbose=0)\n",
        "print('Accuracy on test data: {}% \\n Error on test data: {}'.format(scores2[1], 1 - scores2[1]))"
      ],
      "metadata": {
        "colab": {
          "base_uri": "https://localhost:8080/"
        },
        "id": "5-DtRfwvGoFO",
        "outputId": "8446cad2-66dd-4b5b-fbfa-1cb2e2e37e82"
      },
      "execution_count": 20,
      "outputs": [
        {
          "output_type": "stream",
          "name": "stdout",
          "text": [
            "4/4 [==============================] - 0s 4ms/step\n",
            "Accuracy on test data: 0.5079365372657776% \n",
            " Error on test data: 0.4920634627342224\n"
          ]
        }
      ]
    },
    {
      "cell_type": "markdown",
      "source": [
        "## Decode the One Hot Encoder Back to Labels"
      ],
      "metadata": {
        "id": "0UJaW4D7G_tm"
      }
    },
    {
      "cell_type": "code",
      "source": [
        "decoded_y_test = tf.argmax(y_test, axis=1)\n",
        "decoded_prediction = tf.argmax(pred_test, axis=1)\n",
        "\n",
        "print(decoded_y_test.shape)\n",
        "print(decoded_prediction.shape)"
      ],
      "metadata": {
        "colab": {
          "base_uri": "https://localhost:8080/"
        },
        "id": "VfDrkV3kHEk5",
        "outputId": "9796d21a-6888-4e10-b3f3-c9b16d4d139c"
      },
      "execution_count": 21,
      "outputs": [
        {
          "output_type": "stream",
          "name": "stdout",
          "text": [
            "(126,)\n",
            "(126,)\n"
          ]
        }
      ]
    },
    {
      "cell_type": "markdown",
      "source": [
        "## Confusion Matrix"
      ],
      "metadata": {
        "id": "71mRNHcBHL6y"
      }
    },
    {
      "cell_type": "code",
      "source": [
        "tf.math.confusion_matrix(decoded_y_test,decoded_prediction)"
      ],
      "metadata": {
        "colab": {
          "base_uri": "https://localhost:8080/"
        },
        "id": "PNl60MHSHOO-",
        "outputId": "3903d9e6-c6cb-4886-f695-47efca8751de"
      },
      "execution_count": 22,
      "outputs": [
        {
          "output_type": "execute_result",
          "data": {
            "text/plain": [
              "<tf.Tensor: shape=(5, 5), dtype=int32, numpy=\n",
              "array([[20,  0,  0,  0,  0],\n",
              "       [30,  0,  0,  0,  0],\n",
              "       [ 0,  0, 14,  2,  0],\n",
              "       [ 0,  0,  0,  0, 30],\n",
              "       [ 0,  0,  0,  0, 30]], dtype=int32)>"
            ]
          },
          "metadata": {},
          "execution_count": 22
        }
      ]
    },
    {
      "cell_type": "markdown",
      "source": [
        "## Seaborn Confusion Matrix"
      ],
      "metadata": {
        "id": "S1XYQ6QSHYJd"
      }
    },
    {
      "cell_type": "code",
      "source": [
        "from sklearn.metrics import confusion_matrix\n",
        "import seaborn as sn\n",
        "cm=confusion_matrix(decoded_y_test,decoded_prediction)\n",
        "\n",
        "sn.heatmap(cm,annot=True)#,fmt=\"d\",xticklabels=labels[\"Name\"],yticklabels=labels[\"Name\"],cbar=False)\n",
        "plt.xlabel('Predicted Label')\n",
        "plt.ylabel('True Label')\n",
        "plt.title(\"Confusion Matrix\", fontsize=10)"
      ],
      "metadata": {
        "colab": {
          "base_uri": "https://localhost:8080/",
          "height": 311
        },
        "id": "y59lqq70Hb5a",
        "outputId": "f9ad7c15-2984-480d-b6eb-bf32fd3d854e"
      },
      "execution_count": 23,
      "outputs": [
        {
          "output_type": "execute_result",
          "data": {
            "text/plain": [
              "Text(0.5, 1.0, 'Confusion Matrix')"
            ]
          },
          "metadata": {},
          "execution_count": 23
        },
        {
          "output_type": "display_data",
          "data": {
            "text/plain": [
              "<Figure size 432x288 with 2 Axes>"
            ],
            "image/png": "[encoded data removed]"
          },
          "metadata": {
            "needs_background": "light"
          }
        }
      ]
    }
  ]
}